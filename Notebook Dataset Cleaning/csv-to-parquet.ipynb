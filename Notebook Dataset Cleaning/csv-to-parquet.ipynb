{
 "cells": [
  {
   "cell_type": "code",
   "execution_count": 1,
   "id": "88a03249-3474-4a6e-83c9-e83b8307e28f",
   "metadata": {},
   "outputs": [],
   "source": [
    "import pandas as pd\n",
    "import numpy as np\n",
    "import matplotlib.pyplot as plt\n",
    "import seaborn as sns\n",
    "import warnings\n",
    "warnings.filterwarnings('ignore')"
   ]
  },
  {
   "cell_type": "code",
   "execution_count": 3,
   "id": "b41b8402-e9ac-46d3-a37b-586c7fe2d342",
   "metadata": {
    "scrolled": true
   },
   "outputs": [],
   "source": [
    "app_train = pd.read_csv('application_train_cleaned.csv')\n",
    "bb = pd.read_csv('bureau_balance.csv')\n",
    "bc = pd.read_csv('bureau_cleaned.csv')\n",
    "ccb = pd.read_csv('credit_card_balance_cleaned.csv')\n",
    "ipay = pd.read_csv('ipayment_cleaned.csv')\n",
    "pcb = pd.read_csv('POS_CASH_balance_cleaned.csv')\n",
    "prev_app = pd.read_csv('prev_app_cleaned.csv')"
   ]
  },
  {
   "cell_type": "code",
   "execution_count": 4,
   "id": "78af7ab3-1fad-4780-ae6a-445e5289c9fd",
   "metadata": {},
   "outputs": [
    {
     "name": "stdout",
     "output_type": "stream",
     "text": [
      "Empty DataFrame\n",
      "Columns: [self, other]\n",
      "Index: []\n"
     ]
    }
   ],
   "source": [
    "# Simpan info tipe data awal\n",
    "dtypes_before = app_train.dtypes\n",
    "\n",
    "# Simpan ke parquet dan baca ulang\n",
    "app_train.to_parquet('app_train.parquet', index=False)\n",
    "app_train_parquet = pd.read_parquet('app_train.parquet')\n",
    "\n",
    "# Cek apakah sama\n",
    "dtypes_after = app_train_parquet.dtypes\n",
    "\n",
    "# Bandingkan\n",
    "comparison = dtypes_before.compare(dtypes_after)\n",
    "print(comparison)"
   ]
  },
  {
   "cell_type": "code",
   "execution_count": 8,
   "id": "14f71faf-491d-42ae-914a-b97f733c5ed2",
   "metadata": {},
   "outputs": [
    {
     "name": "stdout",
     "output_type": "stream",
     "text": [
      "Membaca: application_train_cleaned.csv\n",
      "✔️ Disimpan ke: application_train_cleaned.parquet\n",
      "Membaca: bureau_balance.csv\n",
      "✔️ Disimpan ke: bureau_balance.parquet\n",
      "Membaca: bureau_cleaned.csv\n",
      "✔️ Disimpan ke: bureau_cleaned.parquet\n",
      "Membaca: credit_card_balance_cleaned.csv\n",
      "✔️ Disimpan ke: credit_card_balance_cleaned.parquet\n",
      "Membaca: ipayment_cleaned.csv\n",
      "✔️ Disimpan ke: ipayment_cleaned.parquet\n",
      "Membaca: POS_CASH_balance_cleaned.csv\n",
      "✔️ Disimpan ke: POS_CASH_balance_cleaned.parquet\n",
      "Membaca: prev_app_cleaned.csv\n",
      "✔️ Disimpan ke: prev_app_cleaned.parquet\n",
      "Selesai konversi semua file.\n"
     ]
    }
   ],
   "source": [
    "# Daftar file CSV dan nama variabel\n",
    "file_mapping = {\n",
    "    'application_train_cleaned.csv': 'app_train',\n",
    "    'bureau_balance.csv': 'bb',\n",
    "    'bureau_cleaned.csv': 'bc',\n",
    "    'credit_card_balance_cleaned.csv': 'ccb',\n",
    "    'ipayment_cleaned.csv': 'ipay',\n",
    "    'POS_CASH_balance_cleaned.csv': 'pcb',\n",
    "    'prev_app_cleaned.csv': 'prev_app'\n",
    "}\n",
    "\n",
    "# Loop konversi CSV ke Parquet\n",
    "for csv_file in file_mapping:\n",
    "    print(f\"Membaca: {csv_file}\")\n",
    "    df = pd.read_csv(csv_file)\n",
    "    \n",
    "    parquet_file = csv_file.replace('.csv', '.parquet')\n",
    "    df.to_parquet(parquet_file, index=False)\n",
    "    \n",
    "    print(f\"✔️ Disimpan ke: {parquet_file}\")\n",
    "\n",
    "print(\"Selesai konversi semua file.\")"
   ]
  },
  {
   "cell_type": "code",
   "execution_count": 13,
   "id": "4ccfd863-a5e8-4dd1-8c72-fee97d76bfb0",
   "metadata": {},
   "outputs": [
    {
     "name": "stdout",
     "output_type": "stream",
     "text": [
      "✅ application_train_cleaned: identik.\n",
      "✅ Data sama persis (termasuk nilai, urutan kolom, dan tipe data).\n",
      "✅ bureau_balance: identik.\n",
      "✅ Data sama persis (termasuk nilai, urutan kolom, dan tipe data).\n",
      "✅ bureau_cleaned: identik.\n",
      "✅ Data sama persis (termasuk nilai, urutan kolom, dan tipe data).\n",
      "✅ credit_card_balance_cleaned: identik.\n",
      "✅ Data sama persis (termasuk nilai, urutan kolom, dan tipe data).\n",
      "✅ ipayment_cleaned: identik.\n",
      "✅ Data sama persis (termasuk nilai, urutan kolom, dan tipe data).\n",
      "✅ POS_CASH_balance_cleaned: identik.\n",
      "✅ Data sama persis (termasuk nilai, urutan kolom, dan tipe data).\n",
      "✅ prev_app_cleaned: identik.\n",
      "✅ Data sama persis (termasuk nilai, urutan kolom, dan tipe data).\n"
     ]
    }
   ],
   "source": [
    "file_names = [\n",
    "    'application_train_cleaned',\n",
    "    'bureau_balance',\n",
    "    'bureau_cleaned',\n",
    "    'credit_card_balance_cleaned',\n",
    "    'ipayment_cleaned',\n",
    "    'POS_CASH_balance_cleaned',\n",
    "    'prev_app_cleaned'\n",
    "]\n",
    "\n",
    "for name in file_names:\n",
    "    df_csv = pd.read_csv(f'{name}.csv')\n",
    "    df_parquet = pd.read_parquet(f'{name}.parquet')\n",
    "    \n",
    "    if df_csv.equals(df_parquet):\n",
    "        print(f\"✅ {name}: identik.\")\n",
    "    else:\n",
    "        print(f\"❌ {name}: berbeda!\")\n",
    "  # Bandingkan\n",
    "    if df_csv.equals(df_parquet):\n",
    "        print(\"✅ Data sama persis (termasuk nilai, urutan kolom, dan tipe data).\")\n",
    "    else:\n",
    "        print(\"❌ Ada perbedaan dalam isi atau struktur data.\")"
   ]
  },
  {
   "cell_type": "code",
   "execution_count": null,
   "id": "20b2867f-f97b-439b-a7e8-1c2e7f5a6a9f",
   "metadata": {},
   "outputs": [],
   "source": []
  }
 ],
 "metadata": {
  "kernelspec": {
   "display_name": "Python 3 (ipykernel)",
   "language": "python",
   "name": "python3"
  },
  "language_info": {
   "codemirror_mode": {
    "name": "ipython",
    "version": 3
   },
   "file_extension": ".py",
   "mimetype": "text/x-python",
   "name": "python",
   "nbconvert_exporter": "python",
   "pygments_lexer": "ipython3",
   "version": "3.12.7"
  }
 },
 "nbformat": 4,
 "nbformat_minor": 5
}
